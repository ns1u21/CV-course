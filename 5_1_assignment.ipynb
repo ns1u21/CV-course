{
  "cells": [
    {
      "cell_type": "markdown",
      "metadata": {
        "id": "view-in-github",
        "colab_type": "text"
      },
      "source": [
        "<a href=\"https://colab.research.google.com/github/ns1u21/CV-course/blob/main/5_1_assignment.ipynb\" target=\"_parent\"><img src=\"https://colab.research.google.com/assets/colab-badge.svg\" alt=\"Open In Colab\"/></a>"
      ]
    },
    {
      "cell_type": "markdown",
      "metadata": {
        "id": "-89_Z_je0cfL"
      },
      "source": [
        "# Assignment 5.1\n",
        "\n",
        "> Replace all TODOs with your code.\n",
        ">\n",
        "> Do not change any other code and do not add/remove cells!"
      ]
    },
    {
      "cell_type": "markdown",
      "metadata": {
        "id": "w6E-GxTB0j4M"
      },
      "source": [
        "## Files"
      ]
    },
    {
      "cell_type": "markdown",
      "metadata": {
        "id": "iEwuf_DP0cfM"
      },
      "source": [
        "### Task 1\n",
        "\n",
        "Create a new file named \"hello.txt\" and write to it \"Hello, world!\"."
      ]
    },
    {
      "cell_type": "code",
      "execution_count": 10,
      "metadata": {
        "id": "IWVOCWxx0cfM",
        "tags": [
          "task_1"
        ]
      },
      "outputs": [],
      "source": [
        "# TODO\n",
        "with open(\"hello.txt\", 'a') as file:\n",
        "    file.write(\"Hello, World!\")"
      ]
    },
    {
      "cell_type": "markdown",
      "metadata": {
        "id": "2z8HqsaK0cfN"
      },
      "source": [
        "### Task 2\n",
        "\n",
        "Open the file \"hello.txt\" and rewrite it with a random integer from the range [1, 10]."
      ]
    },
    {
      "cell_type": "code",
      "execution_count": 23,
      "metadata": {
        "id": "kva_9ycA0cfN",
        "tags": [
          "task_2"
        ],
        "outputId": "d7844fcd-2811-4754-c6f8-c6f95e963ea6",
        "colab": {
          "base_uri": "https://localhost:8080/"
        }
      },
      "outputs": [
        {
          "output_type": "stream",
          "name": "stdout",
          "text": [
            "6\n",
            "\n",
            "3\n",
            "\n",
            "10\n",
            "\n",
            "4\n",
            "\n",
            "6\n",
            "\n",
            "3\n",
            "\n",
            "5\n",
            "\n",
            "2\n",
            "\n",
            "6\n",
            "\n",
            "5\n",
            "\n"
          ]
        }
      ],
      "source": [
        "# TODO\n",
        "\n",
        "import random\n",
        "\n",
        "\n",
        "\n",
        "with open(\"hello.txt\", 'w') as file:\n",
        "    for _ in range(10):\n",
        "        number = random.randint(1, 10)\n",
        "        file.write(f\"{number}\\n\")\n",
        "\n",
        "# with open(\"hello.txt\", 'r') as file:\n",
        "#     for line in file:\n",
        "#         print(line)"
      ]
    },
    {
      "cell_type": "markdown",
      "metadata": {
        "id": "IqjW7SGS0cfN"
      },
      "source": [
        "### Task 3\n",
        "\n",
        "Open file \"hello.txt\" and read the number from it to variable `n`. Now append `n` upper-case letters starting with \"A\", \"B\", ... to the file."
      ]
    },
    {
      "cell_type": "code",
      "execution_count": 19,
      "metadata": {
        "id": "p83RQvA40cfN",
        "tags": [
          "task_3"
        ],
        "outputId": "f7e3e08b-a686-4902-b293-e9ae09d514c0",
        "colab": {
          "base_uri": "https://localhost:8080/"
        }
      },
      "outputs": [
        {
          "output_type": "stream",
          "name": "stdout",
          "text": [
            "10\n",
            "3\n",
            "3\n",
            "9\n",
            "5\n",
            "7\n",
            "2\n",
            "10\n",
            "4\n",
            "5\n",
            "ABCDEFGHIJABCDEFGHIJ\n"
          ]
        }
      ],
      "source": [
        "# Step 1: Open \"hello.txt\" and read the first number into variable 'n'\n",
        "with open(\"hello.txt\", 'r') as file:\n",
        "    lines = file.readlines()  # Read all lines\n",
        "    n = int(lines[0].strip())  # Convert the first line to an integer\n",
        "\n",
        "# Step 2: Append 'n' uppercase letters starting from \"A\" to the file\n",
        "with open(\"hello.txt\", 'a') as file:\n",
        "    for i in range(n):\n",
        "        letter = chr(65 + i)  # chr(65) is 'A', chr(66) is 'B', and so on\n",
        "        file.write(letter)\n",
        "\n"
      ]
    },
    {
      "cell_type": "markdown",
      "metadata": {
        "id": "fceBNTpUnip6"
      },
      "source": [
        "### Task 4\n",
        "\n",
        "Now open this file again and print to console its content."
      ]
    },
    {
      "cell_type": "code",
      "execution_count": 22,
      "metadata": {
        "id": "VsoALrbBnsjs",
        "tags": [
          "task_4"
        ],
        "outputId": "43e6555f-7c27-4e7f-c509-70f0fee0a20a",
        "colab": {
          "base_uri": "https://localhost:8080/"
        }
      },
      "outputs": [
        {
          "output_type": "stream",
          "name": "stdout",
          "text": [
            "10\n",
            "\n",
            "3\n",
            "\n",
            "3\n",
            "\n",
            "9\n",
            "\n",
            "5\n",
            "\n",
            "7\n",
            "\n",
            "2\n",
            "\n",
            "10\n",
            "\n",
            "4\n",
            "\n",
            "5\n",
            "\n",
            "ABCDEFGHIJABCDEFGHIJ\n"
          ]
        }
      ],
      "source": [
        "# TODO\n",
        "\n",
        "with open(\"hello.txt\", 'r') as file:\n",
        "\n",
        "    for line in file:\n",
        "        print(line)"
      ]
    },
    {
      "cell_type": "markdown",
      "metadata": {
        "id": "cBs-hn5nEvup"
      },
      "source": [
        "## CSV"
      ]
    },
    {
      "cell_type": "markdown",
      "metadata": {
        "id": "XysWADCIEvuq"
      },
      "source": [
        "### Task 5\n",
        "\n",
        "You have some warehouse data stored in the `warehouse` list. You want to persist this data to the disk in CSV format.\n",
        "\n",
        "Create a file `warehouse_v1.csv` and write the contents of `warehouse` list to it. Use the same methods for working with files as in previous exercises (i.e., `file.write()`).\n",
        "\n",
        "The file should look like this:\n",
        "```csv\n",
        "product,price,quantity\n",
        "Apple,0.5,10\n",
        "...\n",
        "```"
      ]
    },
    {
      "cell_type": "code",
      "execution_count": 35,
      "metadata": {
        "tags": [
          "task_5"
        ],
        "id": "nUmJtZa2Evur",
        "outputId": "961e2ba2-ac0e-41d4-813f-cc70e1d92e18",
        "colab": {
          "base_uri": "https://localhost:8080/"
        }
      },
      "outputs": [
        {
          "output_type": "stream",
          "name": "stdout",
          "text": [
            "['product', 'price', 'quantity']\n",
            "['Apple', '0.5', '10']\n",
            "['Banana', '0.75', '20']\n",
            "['Orange', '0.35', '15']\n"
          ]
        }
      ],
      "source": [
        "warehouse = [\n",
        "    {\"product\": \"Apple\", \"price\": 0.5, \"quantity\": 10},\n",
        "    {\"product\": \"Banana\", \"price\": 0.75, \"quantity\": 20},\n",
        "    {\"product\": \"Orange\", \"price\": 0.35, \"quantity\": 15}\n",
        "]\n",
        "\n",
        "import csv\n",
        "\n",
        "header = ['product', 'price', 'quantity' ]\n",
        "with open('warehouse_v1.csv', mode='w') as file:\n",
        "    writer = csv.DictWriter(file, fieldnames=header)\n",
        "\n",
        "    writer.writeheader()\n",
        "    writer.writerows(warehouse)\n",
        "\n",
        "with open('warehouse_v1.csv', mode='r') as file:\n",
        "    reader = csv.reader(file)\n",
        "    for row in reader:\n",
        "        print(row)\n",
        "\n",
        "# TODO"
      ]
    },
    {
      "cell_type": "markdown",
      "metadata": {
        "id": "B1v2ZLfYEvut"
      },
      "source": [
        "### Task 6\n",
        "\n",
        "Now use csv writer convenience methods to do the same to the file `warehouse_v2.csv`. The file content should be identical."
      ]
    },
    {
      "cell_type": "code",
      "execution_count": 34,
      "metadata": {
        "tags": [
          "task_6"
        ],
        "id": "HfQ1i0TjEvuu",
        "outputId": "c6eb7dee-a190-430e-dec9-cb609a9822de",
        "colab": {
          "base_uri": "https://localhost:8080/"
        }
      },
      "outputs": [
        {
          "output_type": "stream",
          "name": "stdout",
          "text": [
            "['product', 'price', 'quantity']\n",
            "['Apple', '0.5', '10']\n",
            "['Banana', '0.75', '20']\n",
            "['Orange', '0.35', '15']\n"
          ]
        }
      ],
      "source": [
        "warehouse = [\n",
        "    {\"product\": \"Apple\", \"price\": 0.5, \"quantity\": 10},\n",
        "    {\"product\": \"Banana\", \"price\": 0.75, \"quantity\": 20},\n",
        "    {\"product\": \"Orange\", \"price\": 0.35, \"quantity\": 15}\n",
        "]\n",
        "\n",
        "import csv\n",
        "\n",
        "header = ['product', 'price', 'quantity' ]\n",
        "with open('warehouse_v2.csv', mode='w') as file:\n",
        "    writer = csv.DictWriter(file, fieldnames=header)\n",
        "\n",
        "    writer.writeheader()\n",
        "    writer.writerows(warehouse)\n",
        "\n",
        "\n",
        "with open('warehouse_v2.csv', mode='r') as file:\n",
        "    reader = csv.reader(file)\n",
        "    for row in reader:\n",
        "        print(row)\n",
        "# TODO"
      ]
    },
    {
      "cell_type": "markdown",
      "metadata": {
        "id": "hY-gVS93Evuv"
      },
      "source": [
        "## JSON"
      ]
    },
    {
      "cell_type": "markdown",
      "metadata": {
        "id": "WBABzqgMEvuv"
      },
      "source": [
        "### Task 7\n",
        "\n",
        "The lecture didn't mention this, but another common way to store information on disk is JSON. The JSON structure comes from Javascript, but somehow similar to native Python structures like `list` and `dict`. There's `json` module to help you work with JSON files.\n",
        "\n",
        "Now, store the same `warehouse` object to the `warehouse.json` file and inspect its content. Use the internet to look up the needed functions."
      ]
    },
    {
      "cell_type": "code",
      "execution_count": 36,
      "metadata": {
        "tags": [
          "task_7"
        ],
        "id": "dGWzuDdwEvuw",
        "outputId": "745bc01c-cc40-4d78-8650-c298667cc60a",
        "colab": {
          "base_uri": "https://localhost:8080/"
        }
      },
      "outputs": [
        {
          "output_type": "stream",
          "name": "stdout",
          "text": [
            "Product: Apple, Price: 0.5, Quantity: 10\n",
            "Product: Banana, Price: 0.75, Quantity: 20\n",
            "Product: Orange, Price: 0.35, Quantity: 15\n"
          ]
        }
      ],
      "source": [
        "warehouse = [\n",
        "    {\"product\": \"Apple\", \"price\": 0.5, \"quantity\": 10},\n",
        "    {\"product\": \"Banana\", \"price\": 0.75, \"quantity\": 20},\n",
        "    {\"product\": \"Orange\", \"price\": 0.35, \"quantity\": 15}\n",
        "]\n",
        "\n",
        "import json\n",
        "with open(\"warehouse.json\", 'w') as file:\n",
        "    json.dump(warehouse, file, indent=4)\n",
        "\n",
        "for item in warehouse:\n",
        "    print(f\"Product: {item['product']}, Price: {item['price']}, Quantity: {item['quantity']}\")\n",
        "# TODO"
      ]
    },
    {
      "cell_type": "code",
      "source": [],
      "metadata": {
        "id": "nFsov8qkPIbR"
      },
      "execution_count": 27,
      "outputs": []
    }
  ],
  "metadata": {
    "colab": {
      "provenance": [],
      "include_colab_link": true
    },
    "kernelspec": {
      "display_name": "venv",
      "language": "python",
      "name": "python3"
    },
    "language_info": {
      "codemirror_mode": {
        "name": "ipython",
        "version": 3
      },
      "file_extension": ".py",
      "mimetype": "text/x-python",
      "name": "python",
      "nbconvert_exporter": "python",
      "pygments_lexer": "ipython3",
      "version": "3.11.5"
    },
    "orig_nbformat": 4
  },
  "nbformat": 4,
  "nbformat_minor": 0
}