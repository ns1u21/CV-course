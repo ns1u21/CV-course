{
  "nbformat": 4,
  "nbformat_minor": 0,
  "metadata": {
    "colab": {
      "provenance": [],
      "authorship_tag": "ABX9TyOPeMMPG36A0N8QInYWQiT5",
      "include_colab_link": true
    },
    "kernelspec": {
      "name": "python3",
      "display_name": "Python 3"
    },
    "language_info": {
      "name": "python"
    }
  },
  "cells": [
    {
      "cell_type": "markdown",
      "metadata": {
        "id": "view-in-github",
        "colab_type": "text"
      },
      "source": [
        "<a href=\"https://colab.research.google.com/github/ns1u21/CV-course/blob/main/Decrypted.ipynb\" target=\"_parent\"><img src=\"https://colab.research.google.com/assets/colab-badge.svg\" alt=\"Open In Colab\"/></a>"
      ]
    },
    {
      "cell_type": "code",
      "execution_count": 14,
      "metadata": {
        "colab": {
          "base_uri": "https://localhost:8080/"
        },
        "id": "t4Sux932-tTG",
        "outputId": "644df46f-9d65-45b0-f8d7-7ea7c3774e2f"
      },
      "outputs": [
        {
          "output_type": "stream",
          "name": "stdout",
          "text": [
            "Enter the text: Jgnnq\n",
            "Enter the key: 2\n",
            "Hello is the keyword!\n"
          ]
        }
      ],
      "source": [
        "alphabet = \" abcdefghijklmnopqrstuvwxyzabcdefghijklmnopqrstuvwxyzABCDEFGHIJKLMNOPQRSTUVWXYZ\"\n",
        "get_letter, keyword = 0, []\n",
        "\n",
        "text = str(input(\"Enter the text: \"))\n",
        "key = int(input(\"Enter the key: \"))\n",
        "\n",
        "keyword = []  # creating the list\n",
        "\n",
        "if 0 < key <= 26:\n",
        "    for letter in text:\n",
        "        get_letter = alphabet.index(letter) - key\n",
        "        keyword.append(alphabet[get_letter])\n",
        "    print(\"\".join(keyword) + \" is the keyword!\")\n",
        "\n",
        "elif key == 27:\n",
        "    keyword = text[::-1]  # if we want to have reversed text\n",
        "    print(keyword + \" is the reversed text!\")\n",
        "\n",
        "else:\n",
        "    print(\"Key must be between 1 and 27!\")\n"
      ]
    }
  ]
}