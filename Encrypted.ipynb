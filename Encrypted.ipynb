{
  "nbformat": 4,
  "nbformat_minor": 0,
  "metadata": {
    "colab": {
      "provenance": [],
      "authorship_tag": "ABX9TyNQbEkCI/0t2xApmmQzNc83",
      "include_colab_link": true
    },
    "kernelspec": {
      "name": "python3",
      "display_name": "Python 3"
    },
    "language_info": {
      "name": "python"
    }
  },
  "cells": [
    {
      "cell_type": "markdown",
      "metadata": {
        "id": "view-in-github",
        "colab_type": "text"
      },
      "source": [
        "<a href=\"https://colab.research.google.com/github/ns1u21/CV-course/blob/main/Encrypted.ipynb\" target=\"_parent\"><img src=\"https://colab.research.google.com/assets/colab-badge.svg\" alt=\"Open In Colab\"/></a>"
      ]
    },
    {
      "cell_type": "code",
      "source": [
        "alphabet = \" abcdefghijklmnopqrstuvwxyzabcdefghijklmnopqrstuvwxyz\"\n",
        "\n",
        "text = str(input(\"Enter the text: \"))\n",
        "key = int(input(\"Enter the key: \"))\n",
        "\n",
        "keyword = []  # Initialize the list to store the keyword\n",
        "\n",
        "if 0 < key <= 26:\n",
        "    for letter in text:\n",
        "        get_letter = alphabet.index(letter) + key\n",
        "        keyword.append(alphabet[get_letter])\n",
        "    print(\"\".join(keyword) + \" is the keyword!\")\n",
        "\n",
        "if key == 27:\n",
        "    for letter in text:\n",
        "      keyword = text[::-1]\n",
        "    print(\"\".join(keyword) + \" is the keyword!\")\n",
        "else:\n",
        "    print(\"Key must be between 1 and 27!\")\n"
      ],
      "metadata": {
        "colab": {
          "base_uri": "https://localhost:8080/"
        },
        "id": "jJ0eE3EpCC5D",
        "outputId": "e490fb49-6f5d-435f-c2d2-8f6f48fcd0cc"
      },
      "execution_count": 32,
      "outputs": [
        {
          "output_type": "stream",
          "name": "stdout",
          "text": [
            "Enter the text: Hello\n",
            "Enter the key: 27\n",
            "olleH is the keyword!\n"
          ]
        }
      ]
    }
  ]
}