{
  "nbformat": 4,
  "nbformat_minor": 0,
  "metadata": {
    "colab": {
      "provenance": [],
      "authorship_tag": "ABX9TyOaWwwsKKqlWY+nOnwfLgKS",
      "include_colab_link": true
    },
    "kernelspec": {
      "name": "python3",
      "display_name": "Python 3"
    },
    "language_info": {
      "name": "python"
    }
  },
  "cells": [
    {
      "cell_type": "markdown",
      "metadata": {
        "id": "view-in-github",
        "colab_type": "text"
      },
      "source": [
        "<a href=\"https://colab.research.google.com/github/ns1u21/CV-course/blob/main/Encrypted.ipynb\" target=\"_parent\"><img src=\"https://colab.research.google.com/assets/colab-badge.svg\" alt=\"Open In Colab\"/></a>"
      ]
    },
    {
      "cell_type": "code",
      "execution_count": 4,
      "metadata": {
        "colab": {
          "base_uri": "https://localhost:8080/"
        },
        "id": "Wm5vKBt995uM",
        "outputId": "badcf213-0a9f-484e-8821-219177bd59df"
      },
      "outputs": [
        {
          "output_type": "stream",
          "name": "stdout",
          "text": [
            "My Heart is beating for You\n",
            "The cipher text is :  uoY rof gnitaeb si traeH yM\n"
          ]
        }
      ],
      "source": [
        "message = input()\n",
        "translated = ''\n",
        "i = len(message) - 1\n",
        "\n",
        "while i >= 0:\n",
        "   translated = translated + message[i]\n",
        "   i = i - 1\n",
        "print('The cipher text is : ', translated)\n"
      ]
    }
  ]
}