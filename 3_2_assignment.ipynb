{
  "cells": [
    {
      "cell_type": "markdown",
      "metadata": {
        "id": "view-in-github",
        "colab_type": "text"
      },
      "source": [
        "<a href=\"https://colab.research.google.com/github/ns1u21/CV-course/blob/main/3_2_assignment.ipynb\" target=\"_parent\"><img src=\"https://colab.research.google.com/assets/colab-badge.svg\" alt=\"Open In Colab\"/></a>"
      ]
    },
    {
      "cell_type": "markdown",
      "metadata": {
        "id": "-89_Z_je0cfL"
      },
      "source": [
        "# Assignment 3.2\n",
        "\n",
        "> Replace all TODOs with your code.\n",
        ">\n",
        "> Do not change any other code and do not add/remove cells!"
      ]
    },
    {
      "cell_type": "markdown",
      "metadata": {
        "id": "w6E-GxTB0j4M"
      },
      "source": [
        "## Lists"
      ]
    },
    {
      "cell_type": "markdown",
      "metadata": {
        "id": "iEwuf_DP0cfM"
      },
      "source": [
        "### Task 1\n",
        "\n",
        "Let's recall the function `find_primes` from the previous assignment. Now, instead of printing the primes, let's append them to a list and return this list. Use for-loop for that.\n",
        "\n",
        "Function `is_prime` is given for your convenience."
      ]
    },
    {
      "cell_type": "code",
      "source": [
        "def is_prime(num):\n",
        "    if num == 1:\n",
        "        return False\n",
        "    if num <= 3:\n",
        "        return True\n",
        "\n",
        "    for d in range(2, int(num ** 0.5)+1):\n",
        "        if num % d == 0:\n",
        "            return False\n",
        "\n",
        "    return True"
      ],
      "metadata": {
        "id": "oHqrVITz6Hy9"
      },
      "execution_count": 1,
      "outputs": []
    },
    {
      "cell_type": "code",
      "execution_count": 4,
      "metadata": {
        "id": "IWVOCWxx0cfM",
        "tags": [
          "task_1"
        ],
        "colab": {
          "base_uri": "https://localhost:8080/"
        },
        "outputId": "9bed4805-01bc-44cf-bf9b-af23d536b839"
      },
      "outputs": [
        {
          "output_type": "stream",
          "name": "stdout",
          "text": [
            "[2, 3, 5, 7, 11]\n"
          ]
        }
      ],
      "source": [
        "def find_primes(a, b):\n",
        "    # TODO\n",
        "    list = []\n",
        "    for i in range (a, b+1):\n",
        "      if is_prime(i):\n",
        "       list.append(i)\n",
        "    return  list\n",
        "\n",
        "\n",
        "\n",
        "print(find_primes(1, 11))  # should print [2, 3, 5, 7, 11]"
      ]
    },
    {
      "cell_type": "markdown",
      "metadata": {
        "id": "2z8HqsaK0cfN"
      },
      "source": [
        "### Task 2\n",
        "\n",
        "Everything's the same as in the previous task, but now use list comprehension instead of the for-loop to implement function `find_primes_2`.\n"
      ]
    },
    {
      "cell_type": "code",
      "source": [],
      "metadata": {
        "id": "zbrdSKdUnz-z"
      },
      "execution_count": null,
      "outputs": []
    },
    {
      "cell_type": "code",
      "execution_count": 10,
      "metadata": {
        "id": "kva_9ycA0cfN",
        "tags": [
          "task_2"
        ],
        "colab": {
          "base_uri": "https://localhost:8080/"
        },
        "outputId": "6781e73c-14aa-4a17-98b3-0dc5d35af9ae"
      },
      "outputs": [
        {
          "output_type": "stream",
          "name": "stdout",
          "text": [
            "[2, 3, 5, 7, 11]\n"
          ]
        }
      ],
      "source": [
        "def find_primes_2(a, b):\n",
        "    # TODO\n",
        "    list =[i for i in range(a,b+1)if is_prime(i)]\n",
        "    return list\n",
        "\n",
        "print(find_primes_2(1, 11))  # should print [2, 3, 5, 7, 11]"
      ]
    },
    {
      "cell_type": "markdown",
      "metadata": {
        "id": "IqjW7SGS0cfN"
      },
      "source": [
        "### Task 3\n",
        "\n",
        "Complete the slicing operator so that the resulting list contains only numbers on the odd indices of the original list."
      ]
    },
    {
      "cell_type": "code",
      "execution_count": 16,
      "metadata": {
        "id": "p83RQvA40cfN",
        "tags": [
          "task_3"
        ],
        "colab": {
          "base_uri": "https://localhost:8080/"
        },
        "outputId": "44fb553b-9ed6-413a-d9f7-392ee734833b"
      },
      "outputs": [
        {
          "output_type": "stream",
          "name": "stdout",
          "text": [
            "[1, 3, 5, 7, 9]\n"
          ]
        }
      ],
      "source": [
        "list_in = [0, 1, 2, 3, 4, 5, 6, 7, 8, 9, 10]\n",
        "\n",
        "list_out = [i for i in list_in if i % 2 == 1]\n",
        "\n",
        "\n",
        "print(list_out)  # should print [1, 3, 5, 7, 9]"
      ]
    },
    {
      "cell_type": "markdown",
      "metadata": {
        "id": "fceBNTpUnip6"
      },
      "source": [
        "### Task 4\n",
        "\n",
        "Sort the list `unsorted_list` in the following order: even numbers should go first, followed by odd numbers.\n",
        "\n",
        "Let's start by implementing the `is_even` function and then using sort."
      ]
    },
    {
      "cell_type": "code",
      "execution_count": 18,
      "metadata": {
        "id": "VsoALrbBnsjs",
        "tags": [
          "task_4"
        ],
        "colab": {
          "base_uri": "https://localhost:8080/"
        },
        "outputId": "898a353f-2944-4e9c-f8e7-657479145ab6"
      },
      "outputs": [
        {
          "output_type": "stream",
          "name": "stdout",
          "text": [
            "[2, 4, 6, 1, 3, 5, 7]\n"
          ]
        }
      ],
      "source": [
        "from os import unsetenv\n",
        "# TODO\n",
        "def is_even(num):\n",
        "    # TODO\n",
        "    return num % 2 == 1\n",
        "\n",
        "unsorted_list = [1, 2, 3, 4, 5, 6, 7]\n",
        "\n",
        "# TODO\n",
        "unsorted_list = [i for i in unsorted_list if not is_even(i)] + [i for i in unsorted_list if is_even(i)]\n",
        "\n",
        "print(unsorted_list)  # should print [2, 4, 6, 1, 3, 5, 7] or any other valid sorting"
      ]
    },
    {
      "cell_type": "markdown",
      "metadata": {
        "id": "lG5tPGor2ftj"
      },
      "source": [
        "### Task 5\n",
        "\n",
        "Everybody loves pixel art! What about you?\n",
        "\n",
        "You are given a terrain map where 0 means water and 1 means land. It is not a very user-friendly representation.\n",
        "Let's print the map to the console using a whitespace `' '` for water and `'X'` for land. Please also add a border with `-` for lines and `+` for corners.\n",
        "\n",
        "\n",
        "Do not assume the map to be always of size 4 by 4; it can be any rectangle."
      ]
    },
    {
      "cell_type": "code",
      "execution_count": 24,
      "metadata": {
        "tags": [
          "task_5"
        ],
        "id": "tIdkmRfF2ftj",
        "colab": {
          "base_uri": "https://localhost:8080/"
        },
        "outputId": "1e4d8a9f-4aa4-47d6-d95e-e6c7becc284f"
      },
      "outputs": [
        {
          "output_type": "stream",
          "name": "stdout",
          "text": [
            "+----+\n",
            "|  XX|\n",
            "|   X|\n",
            "| XXX|\n",
            "|XXXX|\n",
            "+----+\n"
          ]
        }
      ],
      "source": [
        "terrain_map = [\n",
        "    [0, 0, 1, 1],\n",
        "    [0, 0, 0, 1],\n",
        "    [0, 1, 1, 1],\n",
        "    [1, 1, 1, 1]\n",
        "]\n",
        "\n",
        "# TODO\n",
        "terrain_map = [['X' if cell == 1 else ' ' for cell in row] for row in terrain_map]\n",
        "\n",
        "\n",
        "print('+----+')\n",
        "for row in terrain_map:\n",
        "    line = \"|\" + \"\".join(row) + \"|\"\n",
        "    print(line)\n",
        "print('+----+')\n",
        "\n",
        "# Your map should look something like this:\n",
        "# +----+\n",
        "# |  XX|\n",
        "# |   X|\n",
        "# | XXX|\n",
        "# |XXXX|\n",
        "# +----+"
      ]
    },
    {
      "cell_type": "code",
      "source": [],
      "metadata": {
        "id": "gAoXrYmRt7tc"
      },
      "execution_count": null,
      "outputs": []
    }
  ],
  "metadata": {
    "colab": {
      "provenance": [],
      "include_colab_link": true
    },
    "kernelspec": {
      "display_name": "venv",
      "language": "python",
      "name": "python3"
    },
    "language_info": {
      "codemirror_mode": {
        "name": "ipython",
        "version": 3
      },
      "file_extension": ".py",
      "mimetype": "text/x-python",
      "name": "python",
      "nbconvert_exporter": "python",
      "pygments_lexer": "ipython3",
      "version": "3.11.5"
    },
    "orig_nbformat": 4
  },
  "nbformat": 4,
  "nbformat_minor": 0
}