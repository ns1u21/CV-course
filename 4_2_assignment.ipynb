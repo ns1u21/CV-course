{
  "cells": [
    {
      "cell_type": "markdown",
      "metadata": {
        "id": "view-in-github",
        "colab_type": "text"
      },
      "source": [
        "<a href=\"https://colab.research.google.com/github/ns1u21/CV-course/blob/main/4_2_assignment.ipynb\" target=\"_parent\"><img src=\"https://colab.research.google.com/assets/colab-badge.svg\" alt=\"Open In Colab\"/></a>"
      ]
    },
    {
      "cell_type": "markdown",
      "metadata": {
        "id": "-89_Z_je0cfL"
      },
      "source": [
        "# Assignment 4.2\n",
        "\n",
        "> Replace all TODOs with your code.\n",
        ">\n",
        "> Do not change any other code and do not add/remove cells!"
      ]
    },
    {
      "cell_type": "code",
      "execution_count": 1,
      "metadata": {
        "id": "4Zt3Ez5bCm1Q"
      },
      "outputs": [],
      "source": [
        "# Do not edit this cell\n",
        "\n",
        "from typing import List, Tuple"
      ]
    },
    {
      "cell_type": "markdown",
      "metadata": {
        "id": "w6E-GxTB0j4M"
      },
      "source": [
        "## Complexity"
      ]
    },
    {
      "cell_type": "markdown",
      "metadata": {
        "id": "iEwuf_DP0cfM"
      },
      "source": [
        "### Task 1\n",
        "\n",
        "For example, let's take a simple problem - find a maximum element in an input list. We know that the list is sorted in ascending order.\n",
        "\n",
        "Write a function `find_max(li: List[int]) -> int` that would return a maximum element of a sorted list `li`. You can assume `li` to be non-empty. As a last command of your cell, print the complexity of your algorithm. It should be one of:\n",
        "\n",
        "`{O(1), O(log n), O(n), O(nlog n), O(n^2), O(2^n)}`.\n",
        "\n",
        "Note: do not use `max` built-in function."
      ]
    },
    {
      "cell_type": "code",
      "execution_count": 3,
      "metadata": {
        "id": "IWVOCWxx0cfM",
        "tags": [
          "task_1"
        ],
        "outputId": "8acbf373-af3a-4f6f-ed3f-ef62891e40e4",
        "colab": {
          "base_uri": "https://localhost:8080/"
        }
      },
      "outputs": [
        {
          "output_type": "stream",
          "name": "stdout",
          "text": [
            "O(1)\n"
          ]
        }
      ],
      "source": [
        "def find_max(li: List[int]) -> int:\n",
        "    # TODO\n",
        "    return li[-1]\n",
        "\n",
        "print(\"O(1)\")"
      ]
    },
    {
      "cell_type": "markdown",
      "metadata": {
        "id": "2z8HqsaK0cfN"
      },
      "source": [
        "### Task 2\n",
        "\n",
        "The same problem, now we don't know anything about the order in `li`. What's the complexity then? Print it as the last command of the cell.\n",
        "\n",
        "Note: do not use `max` built-in function.\n"
      ]
    },
    {
      "cell_type": "code",
      "execution_count": 12,
      "metadata": {
        "id": "kva_9ycA0cfN",
        "tags": [
          "task_2"
        ],
        "outputId": "900368d3-44ad-4ef9-ab9c-5e69f43a8d7b",
        "colab": {
          "base_uri": "https://localhost:8080/"
        }
      },
      "outputs": [
        {
          "output_type": "stream",
          "name": "stdout",
          "text": [
            "O(n)\n"
          ]
        }
      ],
      "source": [
        "def find_max(li: List[int]) -> int:\n",
        "    max_digit = li[0]\n",
        "    for i in li[1:]:\n",
        "        if i > max_digit:\n",
        "          i = max_digit\n",
        "        return max_digit\n",
        "\n",
        "print(\"O(n)\")"
      ]
    },
    {
      "cell_type": "markdown",
      "metadata": {
        "id": "IqjW7SGS0cfN"
      },
      "source": [
        "### Task 3\n",
        "\n",
        "Now we are playing the guessing game! The user guesses the number between 1 and `n`, and your program makes guesses. If the guess is higher than the initial number, the user enters '<', if the number is lower - '>'. If the guess is correct, a user enters 'bingo'.\n",
        "\n",
        "Implement the program to play the game. As a last command of your cell, print the complexity of your algorithm (or the worst-case number of guesses your program needs to make before the correct guess). It should be one of:\n",
        "\n",
        "`{O(1), O(log n), O(n), O(nlog n), O(n^2), O(2^n)}`."
      ]
    },
    {
      "cell_type": "code",
      "execution_count": 26,
      "metadata": {
        "id": "p83RQvA40cfN",
        "tags": [
          "task_3"
        ],
        "outputId": "07de4503-2460-4ceb-e04b-835757faefcd",
        "colab": {
          "base_uri": "https://localhost:8080/"
        }
      },
      "outputs": [
        {
          "output_type": "stream",
          "name": "stdout",
          "text": [
            "My guess is: 50\n",
            "Enter '<', '>', or 'bingo': >\n",
            "My guess is: 75\n",
            "Enter '<', '>', or 'bingo': >\n",
            "My guess is: 88\n",
            "Enter '<', '>', or 'bingo': >\n",
            "My guess is: 94\n",
            "Enter '<', '>', or 'bingo': >\n",
            "My guess is: 97\n",
            "Enter '<', '>', or 'bingo': >\n",
            "My guess is: 99\n",
            "Enter '<', '>', or 'bingo': bingo\n",
            "I guessed it!\n",
            "O(log n)\n"
          ]
        }
      ],
      "source": [
        "\n",
        "n = 100\n",
        "a = 1\n",
        "b = n\n",
        "\n",
        "while True:\n",
        "    guess = (a + b) // 2\n",
        "    print(f\"My guess is: {guess}\")\n",
        "    response = input(\"Enter '<', '>', or 'bingo': \")\n",
        "\n",
        "    if response == 'bingo':\n",
        "        print(\"I guessed it!\")\n",
        "        break\n",
        "    elif response == '<':\n",
        "        b = guess - 1\n",
        "    elif response == '>':\n",
        "        a = guess + 1\n",
        "\n",
        "\n",
        "print(\"O(log n)\")"
      ]
    }
  ],
  "metadata": {
    "colab": {
      "provenance": [],
      "toc_visible": true,
      "include_colab_link": true
    },
    "kernelspec": {
      "display_name": "venv",
      "language": "python",
      "name": "python3"
    },
    "language_info": {
      "codemirror_mode": {
        "name": "ipython",
        "version": 3
      },
      "file_extension": ".py",
      "mimetype": "text/x-python",
      "name": "python",
      "nbconvert_exporter": "python",
      "pygments_lexer": "ipython3",
      "version": "3.11.5"
    },
    "orig_nbformat": 4
  },
  "nbformat": 4,
  "nbformat_minor": 0
}