{
  "cells": [
    {
      "cell_type": "markdown",
      "metadata": {
        "id": "view-in-github",
        "colab_type": "text"
      },
      "source": [
        "<a href=\"https://colab.research.google.com/github/ns1u21/CV-course/blob/main/2_1_assignment.ipynb\" target=\"_parent\"><img src=\"https://colab.research.google.com/assets/colab-badge.svg\" alt=\"Open In Colab\"/></a>"
      ]
    },
    {
      "cell_type": "markdown",
      "metadata": {
        "id": "-89_Z_je0cfL"
      },
      "source": [
        "# Assignment 2.1\n",
        "\n",
        "> Replace all TODOs with your code.\n",
        ">\n",
        "> Do not change any other code and do not add/remove cells!"
      ]
    },
    {
      "cell_type": "markdown",
      "source": [
        "## Logical operators"
      ],
      "metadata": {
        "id": "w6E-GxTB0j4M"
      }
    },
    {
      "cell_type": "markdown",
      "metadata": {
        "id": "iEwuf_DP0cfM"
      },
      "source": [
        "### Task 1\n",
        "\n",
        "You have two switches: `switch1` and `switch2`. `True` - switch is on, `False` - switch is off.\n",
        "\n",
        "Implement a logical expression that turns the `res` on only when either `switch1` or `switch2` is on, but not both."
      ]
    },
    {
      "cell_type": "code",
      "execution_count": null,
      "metadata": {
        "tags": [],
        "id": "IWVOCWxx0cfM",
        "outputId": "33479d79-2790-4a49-c2a8-b0e2b7a60f34",
        "colab": {
          "base_uri": "https://localhost:8080/"
        }
      },
      "outputs": [
        {
          "output_type": "stream",
          "name": "stdout",
          "text": [
            "res = True\n"
          ]
        }
      ],
      "source": [
        "switch1 = True\n",
        "switch2 = False\n",
        "\n",
        "res = bool(switch1) or bool(switch2)\n",
        "\n",
        "print('res =', res) # should be True"
      ]
    },
    {
      "cell_type": "markdown",
      "source": [
        "## Conditionals"
      ],
      "metadata": {
        "id": "mZydlWw_0wzt"
      }
    },
    {
      "cell_type": "markdown",
      "metadata": {
        "id": "2z8HqsaK0cfN"
      },
      "source": [
        "### Task 2\n",
        "\n",
        "Declare variable `a` with some number. If the number is divisible by 5, print 'Yes', otherwise print 'No'."
      ]
    },
    {
      "cell_type": "code",
      "execution_count": null,
      "metadata": {
        "id": "kva_9ycA0cfN",
        "outputId": "98391cf9-4503-4d1e-d29f-c653c0497b0e",
        "colab": {
          "base_uri": "https://localhost:8080/"
        }
      },
      "outputs": [
        {
          "output_type": "stream",
          "name": "stdout",
          "text": [
            "No\n"
          ]
        }
      ],
      "source": [
        "a = 17\n",
        "\n",
        "if a % 5 == 0 :\n",
        "    print('Yes')\n",
        "else:\n",
        "    print('No')"
      ]
    },
    {
      "cell_type": "markdown",
      "metadata": {
        "id": "IqjW7SGS0cfN"
      },
      "source": [
        "### Task 3\n",
        "\n",
        "You have string `a`. If it is an empty string, assign to it a string 'empty'; otherwise, repeat the string five times."
      ]
    },
    {
      "cell_type": "code",
      "execution_count": null,
      "metadata": {
        "id": "p83RQvA40cfN",
        "outputId": "f896b8b0-5336-468c-a164-c71f99b7da33",
        "colab": {
          "base_uri": "https://localhost:8080/"
        }
      },
      "outputs": [
        {
          "output_type": "stream",
          "name": "stdout",
          "text": [
            "La La La La La \n"
          ]
        }
      ],
      "source": [
        "a = \"La \"\n",
        "\n",
        "if not a:\n",
        "    a = 'empty'\n",
        "else:\n",
        "    a = a * 5\n",
        "\n",
        "print(a)\n",
        "\n"
      ]
    },
    {
      "cell_type": "markdown",
      "source": [
        "## Loops"
      ],
      "metadata": {
        "id": "xC6HlC7Ni998"
      }
    },
    {
      "cell_type": "markdown",
      "metadata": {
        "id": "CKS_sLMj0cfN"
      },
      "source": [
        "### Task 4\n",
        "Let's calculate the sum of the first `n` terms of the [harmonic series](https://en.wikipedia.org/wiki/Harmonic_series_(mathematics))."
      ]
    },
    {
      "cell_type": "code",
      "execution_count": null,
      "metadata": {
        "id": "tXZbJ3Jn0cfN",
        "outputId": "3508d419-b137-4c6c-846d-db750b942c7c",
        "colab": {
          "base_uri": "https://localhost:8080/"
        }
      },
      "outputs": [
        {
          "output_type": "stream",
          "name": "stdout",
          "text": [
            "res = 2.9289682539682538\n"
          ]
        }
      ],
      "source": [
        "n = 10\n",
        "res = 0\n",
        "\n",
        "i = 1\n",
        "\n",
        "while i <= n:\n",
        "      res += 1/i\n",
        "      i += 1\n",
        "\n",
        "\n",
        "print('res =', res) # for n=10 should be 2.928968..."
      ]
    },
    {
      "cell_type": "markdown",
      "metadata": {
        "id": "a1oauilt0cfN"
      },
      "source": [
        "### Task 5\n",
        "Let's calculate the sum of the first `n` terms of the [alternating harmonic series](https://en.wikipedia.org/wiki/Harmonic_series_(mathematics)#Alternating_harmonic_series)."
      ]
    },
    {
      "cell_type": "code",
      "execution_count": null,
      "metadata": {
        "id": "CLgRuR0H0cfO",
        "outputId": "dca1f817-40a3-46b3-95d5-92627dfc9de2",
        "colab": {
          "base_uri": "https://localhost:8080/"
        }
      },
      "outputs": [
        {
          "output_type": "stream",
          "name": "stdout",
          "text": [
            "res = 0.6456349206349207\n"
          ]
        }
      ],
      "source": [
        "n = 10  # number of terms\n",
        "res = 0\n",
        "i = 1\n",
        "\n",
        "\n",
        "while i <= n:\n",
        "    res += (-1)**(i + 1) / i\n",
        "    i += 1\n",
        "\n",
        "print('res =', res)  # for n=10 should be 0.6456349..."
      ]
    },
    {
      "cell_type": "markdown",
      "source": [
        "### Task 6 (Optional)\n",
        "\n",
        "Write a program that prints the reverse of a given string using a while loop."
      ],
      "metadata": {
        "id": "eZ-ucgAolFCa"
      }
    },
    {
      "cell_type": "code",
      "source": [
        "string = \"Ababagalamaga\"\n",
        "reverse = \"\"\n",
        "\n",
        "index = 0\n",
        "while index<len(string):\n",
        "      reverse = string[index]+reverse\n",
        "      index += 1\n",
        "\n",
        "\n",
        "print(\"Reverse =\", reverse)  # should be \"gnirts_emos\""
      ],
      "metadata": {
        "id": "WeTfYFSdlHxF",
        "outputId": "e0f974b4-caa5-43e1-a2b3-6edc120cf0cf",
        "colab": {
          "base_uri": "https://localhost:8080/"
        }
      },
      "execution_count": null,
      "outputs": [
        {
          "output_type": "stream",
          "name": "stdout",
          "text": [
            "Reverse = agamalagababA\n"
          ]
        }
      ]
    },
    {
      "cell_type": "markdown",
      "source": [
        "## Match"
      ],
      "metadata": {
        "id": "2R8JdPm2ps1s"
      }
    },
    {
      "cell_type": "markdown",
      "source": [
        "### Task 7\n",
        "\n",
        "You have `shape` (such as \"square\", \"circle\", or \"triangle\"). Use a match statement to identify and classify the shape."
      ],
      "metadata": {
        "id": "kvZBp2fOputr"
      }
    },
    {
      "cell_type": "code",
      "source": [
        "shape = \"triangle\"\n",
        "\n",
        "match shape:\n",
        "    case \"square\":\n",
        "        print(\"This is a square.\")\n",
        "    case \"circle\":\n",
        "        print(\"This is a circle.\")\n",
        "    case \"triangle\":\n",
        "        print(\"This is a triangle.\")\n",
        "\n",
        "\n",
        "\n",
        "# should print \"This is a triangle\""
      ],
      "metadata": {
        "id": "tLDTs8lqpuXQ",
        "outputId": "b697e151-d4ff-49bc-c02c-54461a60770b",
        "colab": {
          "base_uri": "https://localhost:8080/"
        }
      },
      "execution_count": null,
      "outputs": [
        {
          "output_type": "stream",
          "name": "stdout",
          "text": [
            "This is a triangle.\n"
          ]
        }
      ]
    },
    {
      "cell_type": "markdown",
      "source": [
        "### Task 8 (optional)\n",
        "\n",
        "Write a function called `process_data` that takes some data as a parameter and performs operations based on the data type using a match statement. You can use any operation of your choice.\n"
      ],
      "metadata": {
        "id": "Ih9N47crqpnM"
      }
    },
    {
      "cell_type": "code",
      "source": [
        "def process_data(data):\n",
        "    match data:\n",
        "        case bool(data_bool):\n",
        "            return f\"Processing bool: {not data_bool}\"\n",
        "        case int(data_int):\n",
        "            return f\"Processing number: {data_int * 2}\"\n",
        "        case float(data_float):\n",
        "            return f\"Processing float: {data_float * 23}\"\n",
        "        case str(data_str):\n",
        "            return f\"Processing string: {data_str * 2}\"\n",
        "        case _:\n",
        "            return \"Unsupported data type\"\n",
        "        # TODO float, str, bool, and default case\n",
        "\n",
        "process_data(1==2)"
      ],
      "metadata": {
        "id": "_P8jKfQFqu2d",
        "outputId": "5e15de60-a338-4396-e4c0-799758371377",
        "colab": {
          "base_uri": "https://localhost:8080/",
          "height": 35
        }
      },
      "execution_count": 7,
      "outputs": [
        {
          "output_type": "execute_result",
          "data": {
            "text/plain": [
              "'Processing bool: True'"
            ],
            "application/vnd.google.colaboratory.intrinsic+json": {
              "type": "string"
            }
          },
          "metadata": {},
          "execution_count": 7
        }
      ]
    },
    {
      "cell_type": "markdown",
      "source": [
        "### Task 9 (optional)\n",
        "\n",
        "Write a function called `process_options` that takes an `option` as a parameter and performs actions based on the match statement. You can perform any action of your choice."
      ],
      "metadata": {
        "id": "F9bw1VqusCQc"
      }
    },
    {
      "cell_type": "code",
      "source": [
        "def process_options(option):\n",
        "    match option:\n",
        "        case \"A\" | \"a\":\n",
        "            print(\"Option A selected.\")\n",
        "        # TODO options B, C, and default case\n",
        "\n",
        "\n",
        "process_options('bla')  # should print \"Invalid input\""
      ],
      "metadata": {
        "id": "JeJ-4D9uq43v"
      },
      "execution_count": null,
      "outputs": []
    }
  ],
  "metadata": {
    "kernelspec": {
      "display_name": "venv",
      "language": "python",
      "name": "python3"
    },
    "language_info": {
      "codemirror_mode": {
        "name": "ipython",
        "version": 3
      },
      "file_extension": ".py",
      "mimetype": "text/x-python",
      "name": "python",
      "nbconvert_exporter": "python",
      "pygments_lexer": "ipython3",
      "version": "3.9.6"
    },
    "orig_nbformat": 4,
    "colab": {
      "provenance": [],
      "include_colab_link": true
    }
  },
  "nbformat": 4,
  "nbformat_minor": 0
}