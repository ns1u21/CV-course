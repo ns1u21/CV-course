{
  "nbformat": 4,
  "nbformat_minor": 0,
  "metadata": {
    "colab": {
      "provenance": [],
      "authorship_tag": "ABX9TyOZNngVe6EqLSmPGQY8WlUo",
      "include_colab_link": true
    },
    "kernelspec": {
      "name": "python3",
      "display_name": "Python 3"
    },
    "language_info": {
      "name": "python"
    }
  },
  "cells": [
    {
      "cell_type": "markdown",
      "metadata": {
        "id": "view-in-github",
        "colab_type": "text"
      },
      "source": [
        "<a href=\"https://colab.research.google.com/github/ns1u21/CV-course/blob/main/2_Back_to_School.ipynb\" target=\"_parent\"><img src=\"https://colab.research.google.com/assets/colab-badge.svg\" alt=\"Open In Colab\"/></a>"
      ]
    },
    {
      "cell_type": "code",
      "source": [
        "eq = '4x^2 +4x +    (-8) =  0'\n",
        "parts = eq.split('+')\n",
        "a = int(parts[0].replace('x^2', ''))\n",
        "b = int(parts[1].replace('x', ''))\n",
        "left_side = eq.split('=')[0]\n",
        "\n",
        "c = left_side.split('+')[-1].strip()\n",
        "\n",
        "c = c.replace('(', '').replace(')', '').strip()\n",
        "\n",
        "a=int(a)\n",
        "b=int(b)\n",
        "c=int(c)\n",
        "\n",
        "\n",
        "print(a, b, c)  # This should now print: 4 4 -8\n",
        "disc = b ** 2 - 4 * a * c\n",
        "print(disc)\n",
        "\n",
        "x1 = (-b + disc**0.5) / (2 * a)\n",
        "x2 = (-b - disc**0.5 )/ (2 * a)\n",
        "print(f\"x1 = {x1}\")\n",
        "print(f\"x2 = {x2}\")"
      ],
      "metadata": {
        "colab": {
          "base_uri": "https://localhost:8080/"
        },
        "id": "oqa_89BbRQ7G",
        "outputId": "ded6d238-c052-449c-f48b-43dae307e23c"
      },
      "execution_count": 20,
      "outputs": [
        {
          "output_type": "stream",
          "name": "stdout",
          "text": [
            "4 4 -8\n",
            "144\n",
            "x1 = 1.0\n",
            "x2 = -2.0\n"
          ]
        }
      ]
    }
  ]
}