{
  "cells": [
    {
      "cell_type": "markdown",
      "metadata": {
        "id": "view-in-github",
        "colab_type": "text"
      },
      "source": [
        "<a href=\"https://colab.research.google.com/github/ns1u21/CV-course/blob/main/4_1_assignment.ipynb\" target=\"_parent\"><img src=\"https://colab.research.google.com/assets/colab-badge.svg\" alt=\"Open In Colab\"/></a>"
      ]
    },
    {
      "cell_type": "markdown",
      "metadata": {
        "id": "-89_Z_je0cfL"
      },
      "source": [
        "# Assignment 4.1\n",
        "\n",
        "> Replace all TODOs with your code.\n",
        ">\n",
        "> Do not change any other code and do not add/remove cells!"
      ]
    },
    {
      "cell_type": "markdown",
      "metadata": {
        "id": "w6E-GxTB0j4M"
      },
      "source": [
        "## Sets"
      ]
    },
    {
      "cell_type": "markdown",
      "metadata": {
        "id": "iEwuf_DP0cfM"
      },
      "source": [
        "### Task 1\n",
        "\n",
        "Create an empty set called 'my_set'."
      ]
    },
    {
      "cell_type": "code",
      "execution_count": 3,
      "metadata": {
        "id": "IWVOCWxx0cfM",
        "tags": [
          "task_1"
        ],
        "outputId": "f059b24d-efba-4cd8-d176-0927c2b694d9",
        "colab": {
          "base_uri": "https://localhost:8080/"
        }
      },
      "outputs": [
        {
          "output_type": "stream",
          "name": "stdout",
          "text": [
            "set()\n"
          ]
        }
      ],
      "source": [
        "my_set = set()\n",
        "\n",
        "print(my_set)  # should print set()"
      ]
    },
    {
      "cell_type": "markdown",
      "metadata": {
        "id": "2z8HqsaK0cfN"
      },
      "source": [
        "### Task 2\n",
        "\n",
        "Let's turn a given sentence into a set of words.\n"
      ]
    },
    {
      "cell_type": "code",
      "execution_count": null,
      "metadata": {
        "id": "kva_9ycA0cfN",
        "tags": [
          "task_2"
        ],
        "outputId": "5257e604-a9fa-4a6c-885b-3c39e37e76b3",
        "colab": {
          "base_uri": "https://localhost:8080/"
        }
      },
      "outputs": [
        {
          "output_type": "stream",
          "name": "stdout",
          "text": [
            "{'acd', 'abc', 'cba'}\n"
          ]
        }
      ],
      "source": [
        "sentence = \"abc cba acd abc\"\n",
        "\n",
        "\n",
        "words = set(sentence.split())\n",
        "\n",
        "print(words)  # should be {'acd', 'cba', 'abc'} or in other order"
      ]
    },
    {
      "cell_type": "markdown",
      "metadata": {
        "id": "IqjW7SGS0cfN"
      },
      "source": [
        "### Task 3\n",
        "\n",
        "Now, let's remove from `words` all the words that are present in `sentence2`."
      ]
    },
    {
      "cell_type": "code",
      "execution_count": null,
      "metadata": {
        "id": "p83RQvA40cfN",
        "tags": [
          "task_3"
        ],
        "outputId": "4c963c88-c4f7-48a2-f832-6507d071eff1",
        "colab": {
          "base_uri": "https://localhost:8080/"
        }
      },
      "outputs": [
        {
          "output_type": "stream",
          "name": "stdout",
          "text": [
            "{'acd', 'abc'}\n"
          ]
        }
      ],
      "source": [
        "sentence2 = 'cba baa acc'\n",
        "sentence2_ = set(sentence2.split())\n",
        "\n",
        "words.difference_update(sentence2_)\n",
        "\n",
        "# TODO\n",
        "\n",
        "print(words)  # should print {'acd', 'abc'} or {'abc', 'acd'}"
      ]
    },
    {
      "cell_type": "markdown",
      "metadata": {
        "id": "fceBNTpUnip6"
      },
      "source": [
        "### Task 4\n",
        "\n",
        "Let's now play around with statistics and probability!\n",
        "\n",
        "Generate `N` random numbers in the range `[1, N]` and keep track of a percent of unique numbers in the result.\n",
        "Play around with different values of `N`; how does it affect the percentage of unique numbers? How do you think why?"
      ]
    },
    {
      "cell_type": "code",
      "execution_count": null,
      "metadata": {
        "id": "VsoALrbBnsjs",
        "tags": [
          "task_4"
        ]
      },
      "outputs": [],
      "source": [
        "import random\n",
        "from random import randint\n",
        "\n",
        "\n",
        "N = 1000000000\n",
        "\n",
        "random_numbers = [random.randint(1, N) for i in range(N)]\n",
        "\n",
        "\n",
        "unique_numbers = set(random_numbers)\n",
        "\n",
        "unique_percent = (len(unique_numbers) / N) * 100\n",
        "\n",
        "print(f\"Unique Percentage: {unique_percent}\")\n",
        "\n",
        "# TODO"
      ]
    },
    {
      "cell_type": "markdown",
      "metadata": {
        "id": "i97oe-zR9xP_"
      },
      "source": [
        "For math geeks: if you set rather big `N`, you see that the percentage is slowly approaching ~63.21. It is a modification of a [Birthday problem](https://en.wikipedia.org/wiki/Birthday_problem), but a simpler and more relevant explanation is [here](https://math.stackexchange.com/questions/5775/how-many-bins-do-random-numbers-fill).\n"
      ]
    },
    {
      "cell_type": "markdown",
      "metadata": {
        "id": "MJ03abgc9xQA"
      },
      "source": [
        "## Dictionaries"
      ]
    },
    {
      "cell_type": "markdown",
      "metadata": {
        "id": "NYrbhOY19xQA"
      },
      "source": [
        "### Task 5\n",
        "\n",
        "You are given a matrix `m`. Return a distinct list containing all the values that are present in at least `n` rows.\n",
        "\n",
        "Hint: there can be duplicates in rows; perhaps we would want to eliminate them - how?"
      ]
    },
    {
      "cell_type": "code",
      "execution_count": null,
      "metadata": {
        "id": "tBxoArVb9xQA",
        "outputId": "b86ee546-d228-4bc9-881a-7760278a3c50",
        "colab": {
          "base_uri": "https://localhost:8080/"
        }
      },
      "outputs": [
        {
          "output_type": "stream",
          "name": "stdout",
          "text": [
            "[1, 2, 7]\n"
          ]
        }
      ],
      "source": [
        "#\n",
        "\n",
        "m = [\n",
        "    [1, 1, 2, 3],\n",
        "    [1, 2, 6, 7],\n",
        "    [1, 7, 9, 9]\n",
        "]\n",
        "\n",
        "n = 2\n",
        "res = []\n",
        "\n",
        "row_count = {}\n",
        "\n",
        "\n",
        "for row in m:\n",
        "    unique_val = set(row)\n",
        "    for val in unique_val:\n",
        "        row_count[val] = row_count.get(val, 0) + 1\n",
        "\n",
        "\n",
        "for val, count in row_count.items():\n",
        "    if count >= n:\n",
        "        res.append(val)\n",
        "\n",
        "res.sort()\n",
        "print(res)  # Should print [1, 2, 7]\n",
        "\n"
      ]
    }
  ],
  "metadata": {
    "colab": {
      "provenance": [],
      "toc_visible": true,
      "include_colab_link": true
    },
    "kernelspec": {
      "display_name": "venv",
      "language": "python",
      "name": "python3"
    },
    "language_info": {
      "codemirror_mode": {
        "name": "ipython",
        "version": 3
      },
      "file_extension": ".py",
      "mimetype": "text/x-python",
      "name": "python",
      "nbconvert_exporter": "python",
      "pygments_lexer": "ipython3",
      "version": "3.11.5"
    },
    "orig_nbformat": 4
  },
  "nbformat": 4,
  "nbformat_minor": 0
}