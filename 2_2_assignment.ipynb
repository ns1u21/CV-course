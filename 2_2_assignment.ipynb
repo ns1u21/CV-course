{
  "cells": [
    {
      "cell_type": "markdown",
      "metadata": {
        "id": "view-in-github",
        "colab_type": "text"
      },
      "source": [
        "<a href=\"https://colab.research.google.com/github/ns1u21/CV-course/blob/main/2_2_assignment.ipynb\" target=\"_parent\"><img src=\"https://colab.research.google.com/assets/colab-badge.svg\" alt=\"Open In Colab\"/></a>"
      ]
    },
    {
      "cell_type": "markdown",
      "metadata": {
        "id": "-89_Z_je0cfL"
      },
      "source": [
        "# Assignment 2.2\n",
        "\n",
        "> Replace all TODOs with your code.\n",
        ">\n",
        "> Do not change any other code and do not add/remove cells!"
      ]
    },
    {
      "cell_type": "markdown",
      "source": [
        "## For-loop"
      ],
      "metadata": {
        "id": "w6E-GxTB0j4M"
      }
    },
    {
      "cell_type": "markdown",
      "metadata": {
        "id": "iEwuf_DP0cfM"
      },
      "source": [
        "### Task 1\n",
        "\n",
        "Write a program that prints the numbers from `a` to `b` using for loop."
      ]
    },
    {
      "cell_type": "code",
      "execution_count": 3,
      "metadata": {
        "tags": [],
        "id": "IWVOCWxx0cfM",
        "outputId": "ce37edc2-4366-4cd1-d144-573378cc4b31",
        "colab": {
          "base_uri": "https://localhost:8080/"
        }
      },
      "outputs": [
        {
          "output_type": "stream",
          "name": "stdout",
          "text": [
            "1\n",
            "2\n",
            "3\n",
            "4\n",
            "5\n"
          ]
        }
      ],
      "source": [
        "a = 1\n",
        "b = 5\n",
        "\n",
        "for i in range (a,b+1):\n",
        "  print (i)\n",
        "# TODO\n",
        "\n",
        "# should print 1 2 3 4 5"
      ]
    },
    {
      "cell_type": "markdown",
      "source": [
        "## Functions"
      ],
      "metadata": {
        "id": "mZydlWw_0wzt"
      }
    },
    {
      "cell_type": "markdown",
      "metadata": {
        "id": "2z8HqsaK0cfN"
      },
      "source": [
        "### Task 2\n",
        "\n",
        "Create a function called `is_prime` that takes a number as a parameter, returns `True` if the number is prime, and `False` otherwise."
      ]
    },
    {
      "cell_type": "code",
      "execution_count": 9,
      "metadata": {
        "id": "kva_9ycA0cfN",
        "outputId": "8b556a83-8605-4202-a0b5-e953f8de5fc4",
        "colab": {
          "base_uri": "https://localhost:8080/"
        }
      },
      "outputs": [
        {
          "output_type": "stream",
          "name": "stdout",
          "text": [
            "Is 11 a prime? True\n",
            "Is 9 a prime? False\n"
          ]
        }
      ],
      "source": [
        "def is_prime(num):\n",
        "    # TODO\n",
        "    if num < 2:\n",
        "        return False\n",
        "    i = 2\n",
        "    while i * i <= num:\n",
        "        if num % i == 0:\n",
        "            return False\n",
        "        i += 1\n",
        "    return True\n",
        "\n",
        "print('Is 11 a prime?', is_prime(11))  # should be True\n",
        "print('Is 9 a prime?', is_prime(9))  # should be False\n",
        "\n",
        "\n"
      ]
    },
    {
      "cell_type": "markdown",
      "metadata": {
        "id": "IqjW7SGS0cfN"
      },
      "source": [
        "### Task 3\n",
        "\n",
        "Write a function called `find_primes` that takes two integers, `a` and `b`, and prints all the prime numbers between `a` and `b` (inclusive).\n",
        "\n",
        "You can use the function from the previous exercise."
      ]
    },
    {
      "cell_type": "code",
      "execution_count": 12,
      "metadata": {
        "id": "p83RQvA40cfN",
        "outputId": "64b1de73-34b6-470b-aad0-81295a07fb48",
        "colab": {
          "base_uri": "https://localhost:8080/"
        }
      },
      "outputs": [
        {
          "output_type": "stream",
          "name": "stdout",
          "text": [
            "2\n",
            "3\n",
            "5\n",
            "7\n",
            "11\n"
          ]
        }
      ],
      "source": [
        "def find_primes(a, b):\n",
        "    for num in range(a, b + 1):\n",
        "        if is_prime(num):\n",
        "            print(num)\n",
        "\n",
        "find_primes(1, 11)  # should print 2 3 5 7 11"
      ]
    },
    {
      "cell_type": "markdown",
      "source": [
        "### Task 4\n",
        "\n",
        "Write a function called `reverse_words` that takes a sentence as a parameter and prints the sentence with each word reversed, but the words are in the same order."
      ],
      "metadata": {
        "id": "fceBNTpUnip6"
      }
    },
    {
      "cell_type": "code",
      "source": [
        "# TODO\n",
        "\n",
        "def reverse_words(sentence):\n",
        "\n",
        "    words = sentence.split()\n",
        "    reversed_words = []\n",
        "    for word in words:\n",
        "        reversed_words.append(word[::-1])\n",
        "\n",
        "    new_sentence = ' '.join(reversed_words)\n",
        "    return new_sentence\n",
        "\n",
        "\n",
        "\n",
        "result = reverse_words(\"Quick brown fox jumps over a lazy dog\")  # should return \"kciuQ nworb xof spmuj revo a yzal god\"\n",
        "print(result)  # Print the result"
      ],
      "metadata": {
        "id": "VsoALrbBnsjs",
        "outputId": "89070714-7edb-4e26-e274-a9b6ed741c82",
        "colab": {
          "base_uri": "https://localhost:8080/"
        }
      },
      "execution_count": 14,
      "outputs": [
        {
          "output_type": "stream",
          "name": "stdout",
          "text": [
            "kciuQ nworb xof spmuj revo a yzal god\n"
          ]
        }
      ]
    }
  ],
  "metadata": {
    "kernelspec": {
      "display_name": "venv",
      "language": "python",
      "name": "python3"
    },
    "language_info": {
      "codemirror_mode": {
        "name": "ipython",
        "version": 3
      },
      "file_extension": ".py",
      "mimetype": "text/x-python",
      "name": "python",
      "nbconvert_exporter": "python",
      "pygments_lexer": "ipython3",
      "version": "3.9.6"
    },
    "orig_nbformat": 4,
    "colab": {
      "provenance": [],
      "include_colab_link": true
    }
  },
  "nbformat": 4,
  "nbformat_minor": 0
}